{
 "cells": [
  {
   "cell_type": "markdown",
   "metadata": {},
   "source": [
    "Basic Interactor Demo\n",
    "---------------------\n",
    "\n",
    "This demo shows off an interactive visualization using [Bokeh](https://bokeh.pydata.org) for plotting, and Ipython interactors for widgets. The demo runs entirely inside the Ipython notebook, with no Bokeh server required.\n",
    "\n",
    "The dropdown offers a choice of trig functions to plot, and the sliders control the frequency, amplitude, and phase. \n",
    "\n",
    "To run, click on, `Cell->Run All` in the top menu, then scroll to the bottom and move the sliders. "
   ]
  },
  {
   "cell_type": "code",
   "execution_count": 1,
   "metadata": {
    "collapsed": false
   },
   "outputs": [
    {
     "data": {
      "text/html": [
       "\n",
       "    <div class=\"bk-root\">\n",
       "        <a href=\"https://bokeh.pydata.org\" target=\"_blank\" class=\"bk-logo bk-logo-small bk-logo-notebook\"></a>\n",
       "        <span id=\"ea9d30b3-be05-4a6b-8cca-9346be7e72bc\">Loading BokehJS ...</span>\n",
       "    </div>"
      ]
     },
     "metadata": {},
     "output_type": "display_data"
    },
    {
     "data": {
      "application/javascript": [
       "\n",
       "(function(root) {\n",
       "  function now() {\n",
       "    return new Date();\n",
       "  }\n",
       "\n",
       "  var force = true;\n",
       "\n",
       "  if (typeof (root._bokeh_onload_callbacks) === \"undefined\" || force === true) {\n",
       "    root._bokeh_onload_callbacks = [];\n",
       "    root._bokeh_is_loading = undefined;\n",
       "  }\n",
       "\n",
       "  var JS_MIME_TYPE = 'application/javascript';\n",
       "  var HTML_MIME_TYPE = 'text/html';\n",
       "  var EXEC_MIME_TYPE = 'application/vnd.bokehjs_exec.v0+json';\n",
       "  var CLASS_NAME = 'output_bokeh rendered_html';\n",
       "\n",
       "  /**\n",
       "   * Render data to the DOM node\n",
       "   */\n",
       "  function render(props, node) {\n",
       "    var script = document.createElement(\"script\");\n",
       "    node.appendChild(script);\n",
       "  }\n",
       "\n",
       "  /**\n",
       "   * Handle when an output is cleared or removed\n",
       "   */\n",
       "  function handleClearOutput(event, handle) {\n",
       "    var cell = handle.cell;\n",
       "\n",
       "    var id = cell.output_area._bokeh_element_id;\n",
       "    var server_id = cell.output_area._bokeh_server_id;\n",
       "    // Clean up Bokeh references\n",
       "    if (id != null && id in Bokeh.index) {\n",
       "      Bokeh.index[id].model.document.clear();\n",
       "      delete Bokeh.index[id];\n",
       "    }\n",
       "\n",
       "    if (server_id !== undefined) {\n",
       "      // Clean up Bokeh references\n",
       "      var cmd = \"from bokeh.io.state import curstate; print(curstate().uuid_to_server['\" + server_id + \"'].get_sessions()[0].document.roots[0]._id)\";\n",
       "      cell.notebook.kernel.execute(cmd, {\n",
       "        iopub: {\n",
       "          output: function(msg) {\n",
       "            var id = msg.content.text.trim();\n",
       "            if (id in Bokeh.index) {\n",
       "              Bokeh.index[id].model.document.clear();\n",
       "              delete Bokeh.index[id];\n",
       "            }\n",
       "          }\n",
       "        }\n",
       "      });\n",
       "      // Destroy server and session\n",
       "      var cmd = \"import bokeh.io.notebook as ion; ion.destroy_server('\" + server_id + \"')\";\n",
       "      cell.notebook.kernel.execute(cmd);\n",
       "    }\n",
       "  }\n",
       "\n",
       "  /**\n",
       "   * Handle when a new output is added\n",
       "   */\n",
       "  function handleAddOutput(event, handle) {\n",
       "    var output_area = handle.output_area;\n",
       "    var output = handle.output;\n",
       "\n",
       "    // limit handleAddOutput to display_data with EXEC_MIME_TYPE content only\n",
       "    if ((output.output_type != \"display_data\") || (!output.data.hasOwnProperty(EXEC_MIME_TYPE))) {\n",
       "      return\n",
       "    }\n",
       "\n",
       "    var toinsert = output_area.element.find(\".\" + CLASS_NAME.split(' ')[0]);\n",
       "\n",
       "    if (output.metadata[EXEC_MIME_TYPE][\"id\"] !== undefined) {\n",
       "      toinsert[toinsert.length - 1].firstChild.textContent = output.data[JS_MIME_TYPE];\n",
       "      // store reference to embed id on output_area\n",
       "      output_area._bokeh_element_id = output.metadata[EXEC_MIME_TYPE][\"id\"];\n",
       "    }\n",
       "    if (output.metadata[EXEC_MIME_TYPE][\"server_id\"] !== undefined) {\n",
       "      var bk_div = document.createElement(\"div\");\n",
       "      bk_div.innerHTML = output.data[HTML_MIME_TYPE];\n",
       "      var script_attrs = bk_div.children[0].attributes;\n",
       "      for (var i = 0; i < script_attrs.length; i++) {\n",
       "        toinsert[toinsert.length - 1].firstChild.setAttribute(script_attrs[i].name, script_attrs[i].value);\n",
       "      }\n",
       "      // store reference to server id on output_area\n",
       "      output_area._bokeh_server_id = output.metadata[EXEC_MIME_TYPE][\"server_id\"];\n",
       "    }\n",
       "  }\n",
       "\n",
       "  function register_renderer(events, OutputArea) {\n",
       "\n",
       "    function append_mime(data, metadata, element) {\n",
       "      // create a DOM node to render to\n",
       "      var toinsert = this.create_output_subarea(\n",
       "        metadata,\n",
       "        CLASS_NAME,\n",
       "        EXEC_MIME_TYPE\n",
       "      );\n",
       "      this.keyboard_manager.register_events(toinsert);\n",
       "      // Render to node\n",
       "      var props = {data: data, metadata: metadata[EXEC_MIME_TYPE]};\n",
       "      render(props, toinsert[toinsert.length - 1]);\n",
       "      element.append(toinsert);\n",
       "      return toinsert\n",
       "    }\n",
       "\n",
       "    /* Handle when an output is cleared or removed */\n",
       "    events.on('clear_output.CodeCell', handleClearOutput);\n",
       "    events.on('delete.Cell', handleClearOutput);\n",
       "\n",
       "    /* Handle when a new output is added */\n",
       "    events.on('output_added.OutputArea', handleAddOutput);\n",
       "\n",
       "    /**\n",
       "     * Register the mime type and append_mime function with output_area\n",
       "     */\n",
       "    OutputArea.prototype.register_mime_type(EXEC_MIME_TYPE, append_mime, {\n",
       "      /* Is output safe? */\n",
       "      safe: true,\n",
       "      /* Index of renderer in `output_area.display_order` */\n",
       "      index: 0\n",
       "    });\n",
       "  }\n",
       "\n",
       "  // register the mime type if in Jupyter Notebook environment and previously unregistered\n",
       "  if (root.Jupyter !== undefined) {\n",
       "    var events = require('base/js/events');\n",
       "    var OutputArea = require('notebook/js/outputarea').OutputArea;\n",
       "\n",
       "    if (OutputArea.prototype.mime_types().indexOf(EXEC_MIME_TYPE) == -1) {\n",
       "      register_renderer(events, OutputArea);\n",
       "    }\n",
       "  }\n",
       "\n",
       "  \n",
       "  if (typeof (root._bokeh_timeout) === \"undefined\" || force === true) {\n",
       "    root._bokeh_timeout = Date.now() + 5000;\n",
       "    root._bokeh_failed_load = false;\n",
       "  }\n",
       "\n",
       "  var NB_LOAD_WARNING = {'data': {'text/html':\n",
       "     \"<div style='background-color: #fdd'>\\n\"+\n",
       "     \"<p>\\n\"+\n",
       "     \"BokehJS does not appear to have successfully loaded. If loading BokehJS from CDN, this \\n\"+\n",
       "     \"may be due to a slow or bad network connection. Possible fixes:\\n\"+\n",
       "     \"</p>\\n\"+\n",
       "     \"<ul>\\n\"+\n",
       "     \"<li>re-rerun `output_notebook()` to attempt to load from CDN again, or</li>\\n\"+\n",
       "     \"<li>use INLINE resources instead, as so:</li>\\n\"+\n",
       "     \"</ul>\\n\"+\n",
       "     \"<code>\\n\"+\n",
       "     \"from bokeh.resources import INLINE\\n\"+\n",
       "     \"output_notebook(resources=INLINE)\\n\"+\n",
       "     \"</code>\\n\"+\n",
       "     \"</div>\"}};\n",
       "\n",
       "  function display_loaded() {\n",
       "    var el = document.getElementById(\"ea9d30b3-be05-4a6b-8cca-9346be7e72bc\");\n",
       "    if (el != null) {\n",
       "      el.textContent = \"BokehJS is loading...\";\n",
       "    }\n",
       "    if (root.Bokeh !== undefined) {\n",
       "      if (el != null) {\n",
       "        el.textContent = \"BokehJS \" + root.Bokeh.version + \" successfully loaded.\";\n",
       "      }\n",
       "    } else if (Date.now() < root._bokeh_timeout) {\n",
       "      setTimeout(display_loaded, 100)\n",
       "    }\n",
       "  }\n",
       "\n",
       "\n",
       "  function run_callbacks() {\n",
       "    try {\n",
       "      root._bokeh_onload_callbacks.forEach(function(callback) { callback() });\n",
       "    }\n",
       "    finally {\n",
       "      delete root._bokeh_onload_callbacks\n",
       "    }\n",
       "    console.info(\"Bokeh: all callbacks have finished\");\n",
       "  }\n",
       "\n",
       "  function load_libs(js_urls, callback) {\n",
       "    root._bokeh_onload_callbacks.push(callback);\n",
       "    if (root._bokeh_is_loading > 0) {\n",
       "      console.log(\"Bokeh: BokehJS is being loaded, scheduling callback at\", now());\n",
       "      return null;\n",
       "    }\n",
       "    if (js_urls == null || js_urls.length === 0) {\n",
       "      run_callbacks();\n",
       "      return null;\n",
       "    }\n",
       "    console.log(\"Bokeh: BokehJS not loaded, scheduling load and callback at\", now());\n",
       "    root._bokeh_is_loading = js_urls.length;\n",
       "    for (var i = 0; i < js_urls.length; i++) {\n",
       "      var url = js_urls[i];\n",
       "      var s = document.createElement('script');\n",
       "      s.src = url;\n",
       "      s.async = false;\n",
       "      s.onreadystatechange = s.onload = function() {\n",
       "        root._bokeh_is_loading--;\n",
       "        if (root._bokeh_is_loading === 0) {\n",
       "          console.log(\"Bokeh: all BokehJS libraries loaded\");\n",
       "          run_callbacks()\n",
       "        }\n",
       "      };\n",
       "      s.onerror = function() {\n",
       "        console.warn(\"failed to load library \" + url);\n",
       "      };\n",
       "      console.log(\"Bokeh: injecting script tag for BokehJS library: \", url);\n",
       "      document.getElementsByTagName(\"head\")[0].appendChild(s);\n",
       "    }\n",
       "  };var element = document.getElementById(\"ea9d30b3-be05-4a6b-8cca-9346be7e72bc\");\n",
       "  if (element == null) {\n",
       "    console.log(\"Bokeh: ERROR: autoload.js configured with elementid 'ea9d30b3-be05-4a6b-8cca-9346be7e72bc' but no matching script tag was found. \")\n",
       "    return false;\n",
       "  }\n",
       "\n",
       "  var js_urls = [\"https://cdn.pydata.org/bokeh/release/bokeh-0.13.0.min.js\", \"https://cdn.pydata.org/bokeh/release/bokeh-widgets-0.13.0.min.js\", \"https://cdn.pydata.org/bokeh/release/bokeh-tables-0.13.0.min.js\", \"https://cdn.pydata.org/bokeh/release/bokeh-gl-0.13.0.min.js\"];\n",
       "\n",
       "  var inline_js = [\n",
       "    function(Bokeh) {\n",
       "      Bokeh.set_log_level(\"info\");\n",
       "    },\n",
       "    \n",
       "    function(Bokeh) {\n",
       "      \n",
       "    },\n",
       "    function(Bokeh) {\n",
       "      console.log(\"Bokeh: injecting CSS: https://cdn.pydata.org/bokeh/release/bokeh-0.13.0.min.css\");\n",
       "      Bokeh.embed.inject_css(\"https://cdn.pydata.org/bokeh/release/bokeh-0.13.0.min.css\");\n",
       "      console.log(\"Bokeh: injecting CSS: https://cdn.pydata.org/bokeh/release/bokeh-widgets-0.13.0.min.css\");\n",
       "      Bokeh.embed.inject_css(\"https://cdn.pydata.org/bokeh/release/bokeh-widgets-0.13.0.min.css\");\n",
       "      console.log(\"Bokeh: injecting CSS: https://cdn.pydata.org/bokeh/release/bokeh-tables-0.13.0.min.css\");\n",
       "      Bokeh.embed.inject_css(\"https://cdn.pydata.org/bokeh/release/bokeh-tables-0.13.0.min.css\");\n",
       "    }\n",
       "  ];\n",
       "\n",
       "  function run_inline_js() {\n",
       "    \n",
       "    if ((root.Bokeh !== undefined) || (force === true)) {\n",
       "      for (var i = 0; i < inline_js.length; i++) {\n",
       "        inline_js[i].call(root, root.Bokeh);\n",
       "      }if (force === true) {\n",
       "        display_loaded();\n",
       "      }} else if (Date.now() < root._bokeh_timeout) {\n",
       "      setTimeout(run_inline_js, 100);\n",
       "    } else if (!root._bokeh_failed_load) {\n",
       "      console.log(\"Bokeh: BokehJS failed to load within specified timeout.\");\n",
       "      root._bokeh_failed_load = true;\n",
       "    } else if (force !== true) {\n",
       "      var cell = $(document.getElementById(\"ea9d30b3-be05-4a6b-8cca-9346be7e72bc\")).parents('.cell').data().cell;\n",
       "      cell.output_area.append_execute_result(NB_LOAD_WARNING)\n",
       "    }\n",
       "\n",
       "  }\n",
       "\n",
       "  if (root._bokeh_is_loading === 0) {\n",
       "    console.log(\"Bokeh: BokehJS loaded, going straight to plotting\");\n",
       "    run_inline_js();\n",
       "  } else {\n",
       "    load_libs(js_urls, function() {\n",
       "      console.log(\"Bokeh: BokehJS plotting callback run at\", now());\n",
       "      run_inline_js();\n",
       "    });\n",
       "  }\n",
       "}(window));"
      ],
      "application/vnd.bokehjs_load.v0+json": "\n(function(root) {\n  function now() {\n    return new Date();\n  }\n\n  var force = true;\n\n  if (typeof (root._bokeh_onload_callbacks) === \"undefined\" || force === true) {\n    root._bokeh_onload_callbacks = [];\n    root._bokeh_is_loading = undefined;\n  }\n\n  \n\n  \n  if (typeof (root._bokeh_timeout) === \"undefined\" || force === true) {\n    root._bokeh_timeout = Date.now() + 5000;\n    root._bokeh_failed_load = false;\n  }\n\n  var NB_LOAD_WARNING = {'data': {'text/html':\n     \"<div style='background-color: #fdd'>\\n\"+\n     \"<p>\\n\"+\n     \"BokehJS does not appear to have successfully loaded. If loading BokehJS from CDN, this \\n\"+\n     \"may be due to a slow or bad network connection. Possible fixes:\\n\"+\n     \"</p>\\n\"+\n     \"<ul>\\n\"+\n     \"<li>re-rerun `output_notebook()` to attempt to load from CDN again, or</li>\\n\"+\n     \"<li>use INLINE resources instead, as so:</li>\\n\"+\n     \"</ul>\\n\"+\n     \"<code>\\n\"+\n     \"from bokeh.resources import INLINE\\n\"+\n     \"output_notebook(resources=INLINE)\\n\"+\n     \"</code>\\n\"+\n     \"</div>\"}};\n\n  function display_loaded() {\n    var el = document.getElementById(\"ea9d30b3-be05-4a6b-8cca-9346be7e72bc\");\n    if (el != null) {\n      el.textContent = \"BokehJS is loading...\";\n    }\n    if (root.Bokeh !== undefined) {\n      if (el != null) {\n        el.textContent = \"BokehJS \" + root.Bokeh.version + \" successfully loaded.\";\n      }\n    } else if (Date.now() < root._bokeh_timeout) {\n      setTimeout(display_loaded, 100)\n    }\n  }\n\n\n  function run_callbacks() {\n    try {\n      root._bokeh_onload_callbacks.forEach(function(callback) { callback() });\n    }\n    finally {\n      delete root._bokeh_onload_callbacks\n    }\n    console.info(\"Bokeh: all callbacks have finished\");\n  }\n\n  function load_libs(js_urls, callback) {\n    root._bokeh_onload_callbacks.push(callback);\n    if (root._bokeh_is_loading > 0) {\n      console.log(\"Bokeh: BokehJS is being loaded, scheduling callback at\", now());\n      return null;\n    }\n    if (js_urls == null || js_urls.length === 0) {\n      run_callbacks();\n      return null;\n    }\n    console.log(\"Bokeh: BokehJS not loaded, scheduling load and callback at\", now());\n    root._bokeh_is_loading = js_urls.length;\n    for (var i = 0; i < js_urls.length; i++) {\n      var url = js_urls[i];\n      var s = document.createElement('script');\n      s.src = url;\n      s.async = false;\n      s.onreadystatechange = s.onload = function() {\n        root._bokeh_is_loading--;\n        if (root._bokeh_is_loading === 0) {\n          console.log(\"Bokeh: all BokehJS libraries loaded\");\n          run_callbacks()\n        }\n      };\n      s.onerror = function() {\n        console.warn(\"failed to load library \" + url);\n      };\n      console.log(\"Bokeh: injecting script tag for BokehJS library: \", url);\n      document.getElementsByTagName(\"head\")[0].appendChild(s);\n    }\n  };var element = document.getElementById(\"ea9d30b3-be05-4a6b-8cca-9346be7e72bc\");\n  if (element == null) {\n    console.log(\"Bokeh: ERROR: autoload.js configured with elementid 'ea9d30b3-be05-4a6b-8cca-9346be7e72bc' but no matching script tag was found. \")\n    return false;\n  }\n\n  var js_urls = [\"https://cdn.pydata.org/bokeh/release/bokeh-0.13.0.min.js\", \"https://cdn.pydata.org/bokeh/release/bokeh-widgets-0.13.0.min.js\", \"https://cdn.pydata.org/bokeh/release/bokeh-tables-0.13.0.min.js\", \"https://cdn.pydata.org/bokeh/release/bokeh-gl-0.13.0.min.js\"];\n\n  var inline_js = [\n    function(Bokeh) {\n      Bokeh.set_log_level(\"info\");\n    },\n    \n    function(Bokeh) {\n      \n    },\n    function(Bokeh) {\n      console.log(\"Bokeh: injecting CSS: https://cdn.pydata.org/bokeh/release/bokeh-0.13.0.min.css\");\n      Bokeh.embed.inject_css(\"https://cdn.pydata.org/bokeh/release/bokeh-0.13.0.min.css\");\n      console.log(\"Bokeh: injecting CSS: https://cdn.pydata.org/bokeh/release/bokeh-widgets-0.13.0.min.css\");\n      Bokeh.embed.inject_css(\"https://cdn.pydata.org/bokeh/release/bokeh-widgets-0.13.0.min.css\");\n      console.log(\"Bokeh: injecting CSS: https://cdn.pydata.org/bokeh/release/bokeh-tables-0.13.0.min.css\");\n      Bokeh.embed.inject_css(\"https://cdn.pydata.org/bokeh/release/bokeh-tables-0.13.0.min.css\");\n    }\n  ];\n\n  function run_inline_js() {\n    \n    if ((root.Bokeh !== undefined) || (force === true)) {\n      for (var i = 0; i < inline_js.length; i++) {\n        inline_js[i].call(root, root.Bokeh);\n      }if (force === true) {\n        display_loaded();\n      }} else if (Date.now() < root._bokeh_timeout) {\n      setTimeout(run_inline_js, 100);\n    } else if (!root._bokeh_failed_load) {\n      console.log(\"Bokeh: BokehJS failed to load within specified timeout.\");\n      root._bokeh_failed_load = true;\n    } else if (force !== true) {\n      var cell = $(document.getElementById(\"ea9d30b3-be05-4a6b-8cca-9346be7e72bc\")).parents('.cell').data().cell;\n      cell.output_area.append_execute_result(NB_LOAD_WARNING)\n    }\n\n  }\n\n  if (root._bokeh_is_loading === 0) {\n    console.log(\"Bokeh: BokehJS loaded, going straight to plotting\");\n    run_inline_js();\n  } else {\n    load_libs(js_urls, function() {\n      console.log(\"Bokeh: BokehJS plotting callback run at\", now());\n      run_inline_js();\n    });\n  }\n}(window));"
     },
     "metadata": {},
     "output_type": "display_data"
    }
   ],
   "source": [
    "from ipywidgets import interact\n",
    "import numpy as np\n",
    "\n",
    "from bokeh.io import push_notebook, show, output_notebook\n",
    "from bokeh.plotting import figure\n",
    "output_notebook()"
   ]
  },
  {
   "cell_type": "code",
   "execution_count": 2,
   "metadata": {
    "collapsed": false
   },
   "outputs": [],
   "source": [
    "x = np.linspace(0, 2*np.pi, 2000)\n",
    "y = np.sin(x)"
   ]
  },
  {
   "cell_type": "code",
   "execution_count": 3,
   "metadata": {
    "collapsed": false
   },
   "outputs": [],
   "source": [
    "p = figure(title=\"simple line example\", plot_height=300, plot_width=600, y_range=(-5,5))\n",
    "r = p.line(x, y, color=\"#2222aa\", line_width=3)"
   ]
  },
  {
   "cell_type": "code",
   "execution_count": 4,
   "metadata": {
    "collapsed": false
   },
   "outputs": [],
   "source": [
    "def update(f, w=1, A=1, phi=0):\n",
    "    if   f == \"sin\": func = np.sin\n",
    "    elif f == \"cos\": func = np.cos\n",
    "    elif f == \"tan\": func = np.tan\n",
    "    r.data_source.data['y'] = A * func(w * x + phi)\n",
    "    push_notebook()"
   ]
  },
  {
   "cell_type": "code",
   "execution_count": 10,
   "metadata": {
    "collapsed": false
   },
   "outputs": [
    {
     "data": {
      "text/html": [
       "\n",
       "\n",
       "\n",
       "\n",
       "\n",
       "\n",
       "  <div class=\"bk-root\" id=\"06c8d021-3800-4717-b190-a41973a920a8\"></div>\n"
      ]
     },
     "metadata": {},
     "output_type": "display_data"
    },
    {
     "data": {
      "application/javascript": [
       "(function(root) {\n",
       "  function embed_document(root) {\n",
       "    \n",
       "  var docs_json = {\"50ed9423-0da3-49b8-a43c-72b516d862ac\":{\"roots\":{\"references\":[{\"attributes\":{\"callback\":null,\"data\":{\"x\":{\"__ndarray__\":\"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\",\"dtype\":\"float64\",\"shape\":[2000]},\"y\":{\"__ndarray__\":\"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\",\"dtype\":\"float64\",\"shape\":[2000]}},\"selected\":{\"id\":\"6fcf3996-3a99-411a-a213-7f53f8c8f793\",\"type\":\"Selection\"},\"selection_policy\":{\"id\":\"4393f9a5-ea16-4f97-804e-75155a8355d2\",\"type\":\"UnionRenderers\"}},\"id\":\"ce8f469e-d7e6-44fd-a090-11735b75ab7c\",\"type\":\"ColumnDataSource\"},{\"attributes\":{\"below\":[{\"id\":\"23714ea8-18d8-4f24-9a89-c37e1328a8b8\",\"type\":\"LinearAxis\"}],\"left\":[{\"id\":\"3d29ae2e-26e3-4c87-b98b-6e249feaed84\",\"type\":\"LinearAxis\"}],\"plot_height\":300,\"renderers\":[{\"id\":\"23714ea8-18d8-4f24-9a89-c37e1328a8b8\",\"type\":\"LinearAxis\"},{\"id\":\"0565e9a8-d802-4a8e-b84d-107e547d880e\",\"type\":\"Grid\"},{\"id\":\"3d29ae2e-26e3-4c87-b98b-6e249feaed84\",\"type\":\"LinearAxis\"},{\"id\":\"e8e1ccf6-bc36-4536-ad95-32eb4567023e\",\"type\":\"Grid\"},{\"id\":\"9c4d7baf-3b61-4279-a6b0-093211a734eb\",\"type\":\"BoxAnnotation\"},{\"id\":\"97beedf7-ee8d-44b6-aa3a-6eeefcef96c5\",\"type\":\"GlyphRenderer\"}],\"title\":{\"id\":\"ea011d77-1a4d-404a-891c-269efc279c1d\",\"type\":\"Title\"},\"toolbar\":{\"id\":\"55d38d9b-d420-4f81-899b-2f4053b09400\",\"type\":\"Toolbar\"},\"x_range\":{\"id\":\"b76c60c4-2965-4a12-89ff-86ebc163ce12\",\"type\":\"DataRange1d\"},\"x_scale\":{\"id\":\"3b2e466f-6233-4ba5-b360-47894bccb2ee\",\"type\":\"LinearScale\"},\"y_range\":{\"id\":\"ff36df36-1044-425f-a565-7e9240fc5100\",\"type\":\"Range1d\"},\"y_scale\":{\"id\":\"8e810efa-117c-447a-badb-e251d580af71\",\"type\":\"LinearScale\"}},\"id\":\"4bba727d-da05-4499-998b-ad5d1f767859\",\"subtype\":\"Figure\",\"type\":\"Plot\"},{\"attributes\":{},\"id\":\"ddd654ff-a4e3-4a86-9d96-7cf6f9bbf6b4\",\"type\":\"PanTool\"},{\"attributes\":{\"plot\":null,\"text\":\"simple line example\"},\"id\":\"ea011d77-1a4d-404a-891c-269efc279c1d\",\"type\":\"Title\"},{\"attributes\":{\"line_alpha\":0.1,\"line_color\":\"#1f77b4\",\"line_width\":3,\"x\":{\"field\":\"x\"},\"y\":{\"field\":\"y\"}},\"id\":\"a67dc241-cc35-4115-bcc8-6baddada7988\",\"type\":\"Line\"},{\"attributes\":{},\"id\":\"907bad1e-6579-4587-b071-174f769333c0\",\"type\":\"WheelZoomTool\"},{\"attributes\":{\"callback\":null},\"id\":\"b76c60c4-2965-4a12-89ff-86ebc163ce12\",\"type\":\"DataRange1d\"},{\"attributes\":{\"overlay\":{\"id\":\"9c4d7baf-3b61-4279-a6b0-093211a734eb\",\"type\":\"BoxAnnotation\"}},\"id\":\"96447f44-09e9-4552-aa79-19f1ce1e51d3\",\"type\":\"BoxZoomTool\"},{\"attributes\":{},\"id\":\"a9420181-be86-4f17-9167-0bd5ffa10d42\",\"type\":\"SaveTool\"},{\"attributes\":{\"source\":{\"id\":\"ce8f469e-d7e6-44fd-a090-11735b75ab7c\",\"type\":\"ColumnDataSource\"}},\"id\":\"2c5f8334-18f4-4518-bea4-17829d9d1a24\",\"type\":\"CDSView\"},{\"attributes\":{\"plot\":{\"id\":\"4bba727d-da05-4499-998b-ad5d1f767859\",\"subtype\":\"Figure\",\"type\":\"Plot\"},\"ticker\":{\"id\":\"a3a8c352-26ba-4516-85a3-7327fd7f6add\",\"type\":\"BasicTicker\"}},\"id\":\"0565e9a8-d802-4a8e-b84d-107e547d880e\",\"type\":\"Grid\"},{\"attributes\":{},\"id\":\"a08f5cdb-3b8d-4c70-ad3c-5a85e241cef2\",\"type\":\"ResetTool\"},{\"attributes\":{\"active_drag\":\"auto\",\"active_inspect\":\"auto\",\"active_multi\":null,\"active_scroll\":\"auto\",\"active_tap\":\"auto\",\"tools\":[{\"id\":\"ddd654ff-a4e3-4a86-9d96-7cf6f9bbf6b4\",\"type\":\"PanTool\"},{\"id\":\"907bad1e-6579-4587-b071-174f769333c0\",\"type\":\"WheelZoomTool\"},{\"id\":\"96447f44-09e9-4552-aa79-19f1ce1e51d3\",\"type\":\"BoxZoomTool\"},{\"id\":\"a9420181-be86-4f17-9167-0bd5ffa10d42\",\"type\":\"SaveTool\"},{\"id\":\"a08f5cdb-3b8d-4c70-ad3c-5a85e241cef2\",\"type\":\"ResetTool\"},{\"id\":\"74d006aa-b3e1-4b6a-98eb-991c3fa2f352\",\"type\":\"HelpTool\"}]},\"id\":\"55d38d9b-d420-4f81-899b-2f4053b09400\",\"type\":\"Toolbar\"},{\"attributes\":{},\"id\":\"74d006aa-b3e1-4b6a-98eb-991c3fa2f352\",\"type\":\"HelpTool\"},{\"attributes\":{},\"id\":\"5077b09b-1c35-4a6a-8f69-8eecfc592ceb\",\"type\":\"BasicTickFormatter\"},{\"attributes\":{},\"id\":\"3b2e466f-6233-4ba5-b360-47894bccb2ee\",\"type\":\"LinearScale\"},{\"attributes\":{},\"id\":\"4393f9a5-ea16-4f97-804e-75155a8355d2\",\"type\":\"UnionRenderers\"},{\"attributes\":{\"callback\":null,\"end\":5,\"start\":-5},\"id\":\"ff36df36-1044-425f-a565-7e9240fc5100\",\"type\":\"Range1d\"},{\"attributes\":{},\"id\":\"8e810efa-117c-447a-badb-e251d580af71\",\"type\":\"LinearScale\"},{\"attributes\":{},\"id\":\"e0004322-926b-422b-b84e-b7453451cb35\",\"type\":\"BasicTicker\"},{\"attributes\":{\"line_color\":\"#2222aa\",\"line_width\":3,\"x\":{\"field\":\"x\"},\"y\":{\"field\":\"y\"}},\"id\":\"e05d1b35-72bb-4627-b9eb-c4b64fbdc387\",\"type\":\"Line\"},{\"attributes\":{\"formatter\":{\"id\":\"dc8b8cc0-f049-4573-9e0b-3d8b21cad2b7\",\"type\":\"BasicTickFormatter\"},\"plot\":{\"id\":\"4bba727d-da05-4499-998b-ad5d1f767859\",\"subtype\":\"Figure\",\"type\":\"Plot\"},\"ticker\":{\"id\":\"a3a8c352-26ba-4516-85a3-7327fd7f6add\",\"type\":\"BasicTicker\"}},\"id\":\"23714ea8-18d8-4f24-9a89-c37e1328a8b8\",\"type\":\"LinearAxis\"},{\"attributes\":{},\"id\":\"6fcf3996-3a99-411a-a213-7f53f8c8f793\",\"type\":\"Selection\"},{\"attributes\":{\"formatter\":{\"id\":\"5077b09b-1c35-4a6a-8f69-8eecfc592ceb\",\"type\":\"BasicTickFormatter\"},\"plot\":{\"id\":\"4bba727d-da05-4499-998b-ad5d1f767859\",\"subtype\":\"Figure\",\"type\":\"Plot\"},\"ticker\":{\"id\":\"e0004322-926b-422b-b84e-b7453451cb35\",\"type\":\"BasicTicker\"}},\"id\":\"3d29ae2e-26e3-4c87-b98b-6e249feaed84\",\"type\":\"LinearAxis\"},{\"attributes\":{},\"id\":\"a3a8c352-26ba-4516-85a3-7327fd7f6add\",\"type\":\"BasicTicker\"},{\"attributes\":{\"dimension\":1,\"plot\":{\"id\":\"4bba727d-da05-4499-998b-ad5d1f767859\",\"subtype\":\"Figure\",\"type\":\"Plot\"},\"ticker\":{\"id\":\"e0004322-926b-422b-b84e-b7453451cb35\",\"type\":\"BasicTicker\"}},\"id\":\"e8e1ccf6-bc36-4536-ad95-32eb4567023e\",\"type\":\"Grid\"},{\"attributes\":{},\"id\":\"dc8b8cc0-f049-4573-9e0b-3d8b21cad2b7\",\"type\":\"BasicTickFormatter\"},{\"attributes\":{\"bottom_units\":\"screen\",\"fill_alpha\":{\"value\":0.5},\"fill_color\":{\"value\":\"lightgrey\"},\"left_units\":\"screen\",\"level\":\"overlay\",\"line_alpha\":{\"value\":1.0},\"line_color\":{\"value\":\"black\"},\"line_dash\":[4,4],\"line_width\":{\"value\":2},\"plot\":null,\"render_mode\":\"css\",\"right_units\":\"screen\",\"top_units\":\"screen\"},\"id\":\"9c4d7baf-3b61-4279-a6b0-093211a734eb\",\"type\":\"BoxAnnotation\"},{\"attributes\":{\"data_source\":{\"id\":\"ce8f469e-d7e6-44fd-a090-11735b75ab7c\",\"type\":\"ColumnDataSource\"},\"glyph\":{\"id\":\"e05d1b35-72bb-4627-b9eb-c4b64fbdc387\",\"type\":\"Line\"},\"hover_glyph\":null,\"muted_glyph\":null,\"nonselection_glyph\":{\"id\":\"a67dc241-cc35-4115-bcc8-6baddada7988\",\"type\":\"Line\"},\"selection_glyph\":null,\"view\":{\"id\":\"2c5f8334-18f4-4518-bea4-17829d9d1a24\",\"type\":\"CDSView\"}},\"id\":\"97beedf7-ee8d-44b6-aa3a-6eeefcef96c5\",\"type\":\"GlyphRenderer\"}],\"root_ids\":[\"4bba727d-da05-4499-998b-ad5d1f767859\"]},\"title\":\"Bokeh Application\",\"version\":\"0.13.0\"}};\n",
       "  var render_items = [{\"docid\":\"50ed9423-0da3-49b8-a43c-72b516d862ac\",\"notebook_comms_target\":\"41027879-0c09-45af-9bf5-530d1c59b347\",\"roots\":{\"4bba727d-da05-4499-998b-ad5d1f767859\":\"06c8d021-3800-4717-b190-a41973a920a8\"}}];\n",
       "  root.Bokeh.embed.embed_items_notebook(docs_json, render_items);\n",
       "\n",
       "  }\n",
       "  if (root.Bokeh !== undefined) {\n",
       "    embed_document(root);\n",
       "  } else {\n",
       "    var attempts = 0;\n",
       "    var timer = setInterval(function(root) {\n",
       "      if (root.Bokeh !== undefined) {\n",
       "        embed_document(root);\n",
       "        clearInterval(timer);\n",
       "      }\n",
       "      attempts++;\n",
       "      if (attempts > 100) {\n",
       "        console.log(\"Bokeh: ERROR: Unable to run BokehJS code because BokehJS library is missing\")\n",
       "        clearInterval(timer);\n",
       "      }\n",
       "    }, 10, root)\n",
       "  }\n",
       "})(window);"
      ],
      "application/vnd.bokehjs_exec.v0+json": ""
     },
     "metadata": {
      "application/vnd.bokehjs_exec.v0+json": {
       "id": "4bba727d-da05-4499-998b-ad5d1f767859"
      }
     },
     "output_type": "display_data"
    },
    {
     "data": {
      "text/html": [
       "<p><code>&lt;Bokeh Notebook handle for <strong>In[10]</strong>&gt;</code></p>"
      ],
      "text/plain": [
       "<bokeh.io.notebook.CommsHandle at 0x7fde38067e10>"
      ]
     },
     "execution_count": 10,
     "metadata": {},
     "output_type": "execute_result"
    }
   ],
   "source": [
    "show(p, notebook_handle=True)"
   ]
  },
  {
   "cell_type": "code",
   "execution_count": 11,
   "metadata": {
    "collapsed": false
   },
   "outputs": [
    {
     "data": {
      "application/vnd.jupyter.widget-view+json": {
       "model_id": "15cc5f046e104c44a7fbbb06f13f0f20",
       "version_major": 2,
       "version_minor": 0
      },
      "text/plain": [
       "interactive(children=(Dropdown(description='f', options=('sin', 'cos', 'tan'), value='sin'), IntSlider(value=1…"
      ]
     },
     "metadata": {},
     "output_type": "display_data"
    },
    {
     "data": {
      "text/plain": [
       "<function __main__.update(f, w=1, A=1, phi=0)>"
      ]
     },
     "execution_count": 11,
     "metadata": {},
     "output_type": "execute_result"
    }
   ],
   "source": [
    "interact(update, f=[\"sin\", \"cos\", \"tan\"], w=(0,100), A=(1,5), phi=(0, 20, 0.1))"
   ]
  },
  {
   "cell_type": "code",
   "execution_count": null,
   "metadata": {
    "collapsed": false
   },
   "outputs": [],
   "source": []
  },
  {
   "cell_type": "code",
   "execution_count": null,
   "metadata": {
    "collapsed": true
   },
   "outputs": [],
   "source": []
  }
 ],
 "metadata": {
  "kernelspec": {
   "display_name": "Python 3",
   "language": "python",
   "name": "python3"
  },
  "language_info": {
   "codemirror_mode": {
    "name": "ipython",
    "version": 3
   },
   "file_extension": ".py",
   "mimetype": "text/x-python",
   "name": "python",
   "nbconvert_exporter": "python",
   "pygments_lexer": "ipython3",
   "version": "3.6.6"
  }
 },
 "nbformat": 4,
 "nbformat_minor": 2
}
