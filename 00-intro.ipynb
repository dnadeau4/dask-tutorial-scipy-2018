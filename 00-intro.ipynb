{
 "cells": [
  {
   "cell_type": "markdown",
   "metadata": {},
   "source": [
    "<img src=\"http://dask.readthedocs.io/en/latest/_images/dask_horizontal.svg\"\n",
    "     align=\"right\"\n",
    "     width=\"30%\"\n",
    "     alt=\"Dask logo\\\">\n"
   ]
  },
  {
   "cell_type": "markdown",
   "metadata": {},
   "source": [
    "# Introduction\n",
    "\n",
    "Welcome to the Dask Tutorial.\n",
    "\n",
    "Dask is a parallel computing library that scales the existing Python ecosystem. This tutorial will introduce Dask and parallel data analysis more generally.\n",
    "\n",
    "Dask can scale down to your laptop laptop and up to a cluster. Accordingly, the tutorial comes in two pieces. In the first part, we'll use the environment you setup on your laptop to analyze medium sized datasets in parallel on your laptop.\n",
    "\n",
    "For the second half, you'll log into a [Pangeo](https://pangeo-data.github.io/) [Jupyterhub](https://jupyterhub.readthedocs.io/en/stable/) deployment that will provide you with your own Dask cluster to solve even larger problems using a cluster of machines."
   ]
  },
  {
   "cell_type": "markdown",
   "metadata": {},
   "source": [
    "## Tutorial Structure\n",
    "\n",
    "Each section is a Jupyter notebook. There's a mixture of text, code, and exercises.\n",
    "\n",
    "If you hasn't used Jupyterlab, it's similar to the Jupyter Notebook. If you haven't used the Notebook, the quick intro is\n",
    "\n",
    "1. There are two modes: command and edit\n",
    "2. From command mode, press `Enter` to edit a cell (like this markdown cell)\n",
    "3. From edit mode, press `Esc` to change to command mode\n",
    "4. Press `shift+enter` to execute a cell and move to the next cell.\n",
    "\n",
    "The toolbar has commands for executing, converting, and creating cells.\n",
    "\n",
    "Each notebook will have exercises for you to solve. You'll be given a blank or partially completed cell, followed by a \"magic\" cell that will load the solution. For example\n",
    "\n",
    "## Exercise: Print `Hello, world!`\n",
    "\n",
    "Print the text \"Hello, world!\"."
   ]
  },
  {
   "cell_type": "code",
   "execution_count": 11,
   "metadata": {},
   "outputs": [
    {
     "name": "stdout",
     "output_type": "stream",
     "text": [
      "(array([-88.2884   , -86.0711   , -83.8408   , -81.6074   , -79.37299  ,\n",
      "       -77.13799  , -74.902695 , -72.6673   , -70.431694 , -68.196    ,\n",
      "       -65.9603   , -63.7245   , -61.488598 , -59.2528   , -57.0169   ,\n",
      "       -54.781    , -52.545097 , -50.309196 , -48.0733   , -45.8374   ,\n",
      "       -43.6014   , -41.365498 , -39.129498 , -36.893597 , -34.657597 ,\n",
      "       -32.4217   , -30.1857   , -27.9497   , -25.713799 , -23.477798 ,\n",
      "       -21.241798 , -19.005798 , -16.7699   , -14.533899 , -12.297899 ,\n",
      "       -10.061899 ,  -7.8258996,  -5.5899997,  -3.3539999,  -1.1179999,\n",
      "         1.1179999,   3.3539999,   5.5899997,   7.8258996,  10.061899 ,\n",
      "        12.297899 ,  14.533899 ,  16.7699   ,  19.005798 ,  21.241798 ,\n",
      "        23.477798 ,  25.713799 ,  27.9497   ,  30.1857   ,  32.4217   ,\n",
      "        34.657597 ,  36.893597 ,  39.129498 ,  41.365498 ,  43.6014   ,\n",
      "        45.8374   ,  48.0733   ,  50.309196 ,  52.545097 ,  54.781    ,\n",
      "        57.0169   ,  59.2528   ,  61.488598 ,  63.7245   ,  65.9603   ,\n",
      "        68.196    ,  70.431694 ,  72.6673   ,  74.902695 ,  77.13799  ,\n",
      "        79.37299  ,  81.6074   ,  83.8408   ,  86.0711   ,  88.2884   ],\n",
      "      dtype=float32), array([-180.  , -176.25, -172.5 , -168.75, -165.  , -161.25, -157.5 ,\n",
      "       -153.75, -150.  , -146.25, -142.5 , -138.75, -135.  , -131.25,\n",
      "       -127.5 , -123.75, -120.  , -116.25, -112.5 , -108.75, -105.  ,\n",
      "       -101.25,  -97.5 ,  -93.75,  -90.  ,  -86.25,  -82.5 ,  -78.75,\n",
      "        -75.  ,  -71.25,  -67.5 ,  -63.75,  -60.  ,  -56.25,  -52.5 ,\n",
      "        -48.75,  -45.  ,  -41.25,  -37.5 ,  -33.75,  -30.  ,  -26.25,\n",
      "        -22.5 ,  -18.75,  -15.  ,  -11.25,   -7.5 ,   -3.75,    0.  ,\n",
      "          3.75,    7.5 ,   11.25,   15.  ,   18.75,   22.5 ,   26.25,\n",
      "         30.  ,   33.75,   37.5 ,   41.25,   45.  ,   48.75,   52.5 ,\n",
      "         56.25,   60.  ,   63.75,   67.5 ,   71.25,   75.  ,   78.75,\n",
      "         82.5 ,   86.25,   90.  ,   93.75,   97.5 ,  101.25,  105.  ,\n",
      "        108.75,  112.5 ,  116.25,  120.  ,  123.75,  127.5 ,  131.25,\n",
      "        135.  ,  138.75,  142.5 ,  146.25,  150.  ,  153.75,  157.5 ,\n",
      "        161.25,  165.  ,  168.75,  172.5 ,  176.25,  180.  ],\n",
      "      dtype=float32))\n"
     ]
    }
   ],
   "source": [
    "#! wget --no-check \"http://cdat.llnl.gov/cdat/sample_data/clt.nc\"\n",
    "import cdms2\n",
    "f1 =cdms2.open(\"clt.nc\")\n",
    "f1.listvariables()\n",
    "u=f1('u')\n",
    "v=f1('v')\n",
    "from cdms2 import MV\n",
    "vel = MV.sqrt(u[0]**2+v[0]**2)\n",
    "# print(vel)\n",
    "print(u.getLatitude()[:], u.getLongitude()[:])"
   ]
  },
  {
   "cell_type": "code",
   "execution_count": 2,
   "metadata": {},
   "outputs": [
    {
     "name": "stdout",
     "output_type": "stream",
     "text": [
      "Hello, world!\n"
     ]
    }
   ],
   "source": [
    "# %load solutions/00-hello-world.py\n",
    "print(\"Hello, world!\")"
   ]
  },
  {
   "cell_type": "markdown",
   "metadata": {},
   "source": [
    "You'll need to run the solution cell twice; once to load the solution, and a second time to execute it."
   ]
  },
  {
   "cell_type": "markdown",
   "metadata": {},
   "source": [
    "## Contents\n",
    "\n",
    "Now, let's officially start.\n",
    "\n",
    "- [Dask Delayed](01-dask.delayed.ipynb)\n",
    "- [Dask Arrays](02-dask-arrays.ipynb)\n",
    "- [Dask DataFrames](03-dask-dataframes.ipynb)\n",
    "- [Schedulers](04-schedulers.ipynb)\n",
    "- [Distributed DataFrames](05-distributed-dataframes-and-efficiency.ipynb)\n",
    "- [Advanced Distribued Techniques](06-distributed-advanced.ipynb)\n",
    "- [Scalable Machine Learing](07-machine-learning.ipynb)"
   ]
  }
 ],
 "metadata": {
  "kernelspec": {
   "display_name": "Python 3",
   "language": "python",
   "name": "python3"
  },
  "language_info": {
   "codemirror_mode": {
    "name": "ipython",
    "version": 3
   },
   "file_extension": ".py",
   "mimetype": "text/x-python",
   "name": "python",
   "nbconvert_exporter": "python",
   "pygments_lexer": "ipython3",
   "version": "3.6.6"
  }
 },
 "nbformat": 4,
 "nbformat_minor": 2
}
